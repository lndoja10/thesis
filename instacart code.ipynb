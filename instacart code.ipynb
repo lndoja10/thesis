{
  "nbformat": 4,
  "nbformat_minor": 0,
  "metadata": {
    "colab": {
      "name": "instacart.ipynb",
      "provenance": [],
      "collapsed_sections": []
    },
    "kernelspec": {
      "name": "python3",
      "display_name": "Python 3"
    },
    "language_info": {
      "name": "python"
    }
  },
  "cells": [
    {
      "cell_type": "code",
      "metadata": {
        "id": "LpTtW0_deT2e"
      },
      "source": [
        "import numpy as np # linear algebra\n",
        "import pandas as pd # data processing, CSV file I/O (e.g. pd.read_csv)\n",
        "import matplotlib.pyplot as plt\n",
        "import seaborn as sns\n",
        "color = sns.color_palette()\n",
        "\n",
        "%matplotlib inline\n",
        "\n",
        "pd.options.mode.chained_assignment = None  # default='warn'"
      ],
      "execution_count": null,
      "outputs": []
    },
    {
      "cell_type": "code",
      "metadata": {
        "colab": {
          "base_uri": "https://localhost:8080/"
        },
        "id": "naI1zBMfeeAp",
        "outputId": "773a19b4-2ce8-4ce4-95b7-4394d77d8193"
      },
      "source": [
        "from google.colab import drive\n",
        "drive.mount('/content/drive')"
      ],
      "execution_count": null,
      "outputs": [
        {
          "output_type": "stream",
          "name": "stdout",
          "text": [
            "Mounted at /content/drive\n"
          ]
        }
      ]
    },
    {
      "cell_type": "code",
      "metadata": {
        "colab": {
          "base_uri": "https://localhost:8080/"
        },
        "id": "4UqsMHKHfZcX",
        "outputId": "fee430d3-879b-4118-aaea-f82839ec7c80"
      },
      "source": [
        "from subprocess import check_output\n",
        "print(check_output([\"ls\", \"/content/drive/MyDrive/instacart\"]).decode(\"utf8\"))"
      ],
      "execution_count": null,
      "outputs": [
        {
          "output_type": "stream",
          "name": "stdout",
          "text": [
            "aisles.csv\n",
            "departments.csv\n",
            "order_products__prior.csv\n",
            "order_products__train.csv\n",
            "orders.csv\n",
            "products.csv\n",
            "sample_submission.csv\n",
            "\n"
          ]
        }
      ]
    },
    {
      "cell_type": "code",
      "metadata": {
        "id": "f3e77Aaxfski"
      },
      "source": [
        "order_products_train_df = pd.read_csv(\"/content/drive/MyDrive/instacart/order_products__train.csv\")\n",
        "order_products_prior_df = pd.read_csv(\"/content/drive/MyDrive/instacart/order_products__prior.csv\")\n",
        "orders_df = pd.read_csv(\"/content/drive/MyDrive/instacart/orders.csv\")\n",
        "products_df = pd.read_csv(\"/content/drive/MyDrive/instacart/products.csv\")\n",
        "aisles_df = pd.read_csv(\"/content/drive/MyDrive/instacart/aisles.csv\")\n",
        "departments_df = pd.read_csv(\"/content/drive/MyDrive/instacart/departments.csv\")\n"
      ],
      "execution_count": null,
      "outputs": []
    },
    {
      "cell_type": "code",
      "metadata": {
        "colab": {
          "base_uri": "https://localhost:8080/",
          "height": 204
        },
        "id": "pyYLVQwmgRf4",
        "outputId": "229b14a0-f82c-4df8-c366-f8881f7551ec"
      },
      "source": [
        "orders_df.head()"
      ],
      "execution_count": null,
      "outputs": [
        {
          "output_type": "execute_result",
          "data": {
            "text/html": [
              "<div>\n",
              "<style scoped>\n",
              "    .dataframe tbody tr th:only-of-type {\n",
              "        vertical-align: middle;\n",
              "    }\n",
              "\n",
              "    .dataframe tbody tr th {\n",
              "        vertical-align: top;\n",
              "    }\n",
              "\n",
              "    .dataframe thead th {\n",
              "        text-align: right;\n",
              "    }\n",
              "</style>\n",
              "<table border=\"1\" class=\"dataframe\">\n",
              "  <thead>\n",
              "    <tr style=\"text-align: right;\">\n",
              "      <th></th>\n",
              "      <th>order_id</th>\n",
              "      <th>user_id</th>\n",
              "      <th>eval_set</th>\n",
              "      <th>order_number</th>\n",
              "      <th>order_dow</th>\n",
              "      <th>order_hour_of_day</th>\n",
              "      <th>days_since_prior_order</th>\n",
              "    </tr>\n",
              "  </thead>\n",
              "  <tbody>\n",
              "    <tr>\n",
              "      <th>0</th>\n",
              "      <td>2539329</td>\n",
              "      <td>1</td>\n",
              "      <td>prior</td>\n",
              "      <td>1</td>\n",
              "      <td>2</td>\n",
              "      <td>8</td>\n",
              "      <td>NaN</td>\n",
              "    </tr>\n",
              "    <tr>\n",
              "      <th>1</th>\n",
              "      <td>2398795</td>\n",
              "      <td>1</td>\n",
              "      <td>prior</td>\n",
              "      <td>2</td>\n",
              "      <td>3</td>\n",
              "      <td>7</td>\n",
              "      <td>15.0</td>\n",
              "    </tr>\n",
              "    <tr>\n",
              "      <th>2</th>\n",
              "      <td>473747</td>\n",
              "      <td>1</td>\n",
              "      <td>prior</td>\n",
              "      <td>3</td>\n",
              "      <td>3</td>\n",
              "      <td>12</td>\n",
              "      <td>21.0</td>\n",
              "    </tr>\n",
              "    <tr>\n",
              "      <th>3</th>\n",
              "      <td>2254736</td>\n",
              "      <td>1</td>\n",
              "      <td>prior</td>\n",
              "      <td>4</td>\n",
              "      <td>4</td>\n",
              "      <td>7</td>\n",
              "      <td>29.0</td>\n",
              "    </tr>\n",
              "    <tr>\n",
              "      <th>4</th>\n",
              "      <td>431534</td>\n",
              "      <td>1</td>\n",
              "      <td>prior</td>\n",
              "      <td>5</td>\n",
              "      <td>4</td>\n",
              "      <td>15</td>\n",
              "      <td>28.0</td>\n",
              "    </tr>\n",
              "  </tbody>\n",
              "</table>\n",
              "</div>"
            ],
            "text/plain": [
              "   order_id  user_id  ... order_hour_of_day  days_since_prior_order\n",
              "0   2539329        1  ...                 8                     NaN\n",
              "1   2398795        1  ...                 7                    15.0\n",
              "2    473747        1  ...                12                    21.0\n",
              "3   2254736        1  ...                 7                    29.0\n",
              "4    431534        1  ...                15                    28.0\n",
              "\n",
              "[5 rows x 7 columns]"
            ]
          },
          "metadata": {},
          "execution_count": 5
        }
      ]
    },
    {
      "cell_type": "code",
      "metadata": {
        "colab": {
          "base_uri": "https://localhost:8080/",
          "height": 204
        },
        "id": "BnqH2Js8gakL",
        "outputId": "212cd63b-f685-48da-f47f-d00c65c2ecee"
      },
      "source": [
        "order_products_prior_df.head()"
      ],
      "execution_count": null,
      "outputs": [
        {
          "output_type": "execute_result",
          "data": {
            "text/html": [
              "<div>\n",
              "<style scoped>\n",
              "    .dataframe tbody tr th:only-of-type {\n",
              "        vertical-align: middle;\n",
              "    }\n",
              "\n",
              "    .dataframe tbody tr th {\n",
              "        vertical-align: top;\n",
              "    }\n",
              "\n",
              "    .dataframe thead th {\n",
              "        text-align: right;\n",
              "    }\n",
              "</style>\n",
              "<table border=\"1\" class=\"dataframe\">\n",
              "  <thead>\n",
              "    <tr style=\"text-align: right;\">\n",
              "      <th></th>\n",
              "      <th>order_id</th>\n",
              "      <th>product_id</th>\n",
              "      <th>add_to_cart_order</th>\n",
              "      <th>reordered</th>\n",
              "    </tr>\n",
              "  </thead>\n",
              "  <tbody>\n",
              "    <tr>\n",
              "      <th>0</th>\n",
              "      <td>2</td>\n",
              "      <td>33120</td>\n",
              "      <td>1</td>\n",
              "      <td>1</td>\n",
              "    </tr>\n",
              "    <tr>\n",
              "      <th>1</th>\n",
              "      <td>2</td>\n",
              "      <td>28985</td>\n",
              "      <td>2</td>\n",
              "      <td>1</td>\n",
              "    </tr>\n",
              "    <tr>\n",
              "      <th>2</th>\n",
              "      <td>2</td>\n",
              "      <td>9327</td>\n",
              "      <td>3</td>\n",
              "      <td>0</td>\n",
              "    </tr>\n",
              "    <tr>\n",
              "      <th>3</th>\n",
              "      <td>2</td>\n",
              "      <td>45918</td>\n",
              "      <td>4</td>\n",
              "      <td>1</td>\n",
              "    </tr>\n",
              "    <tr>\n",
              "      <th>4</th>\n",
              "      <td>2</td>\n",
              "      <td>30035</td>\n",
              "      <td>5</td>\n",
              "      <td>0</td>\n",
              "    </tr>\n",
              "  </tbody>\n",
              "</table>\n",
              "</div>"
            ],
            "text/plain": [
              "   order_id  product_id  add_to_cart_order  reordered\n",
              "0         2       33120                  1          1\n",
              "1         2       28985                  2          1\n",
              "2         2        9327                  3          0\n",
              "3         2       45918                  4          1\n",
              "4         2       30035                  5          0"
            ]
          },
          "metadata": {},
          "execution_count": 6
        }
      ]
    },
    {
      "cell_type": "code",
      "metadata": {
        "colab": {
          "base_uri": "https://localhost:8080/",
          "height": 204
        },
        "id": "fCfkFGAIgcdR",
        "outputId": "9985a7d2-b2ca-49dc-eb7a-45b6bcf928a1"
      },
      "source": [
        "order_products_train_df.head()"
      ],
      "execution_count": null,
      "outputs": [
        {
          "output_type": "execute_result",
          "data": {
            "text/html": [
              "<div>\n",
              "<style scoped>\n",
              "    .dataframe tbody tr th:only-of-type {\n",
              "        vertical-align: middle;\n",
              "    }\n",
              "\n",
              "    .dataframe tbody tr th {\n",
              "        vertical-align: top;\n",
              "    }\n",
              "\n",
              "    .dataframe thead th {\n",
              "        text-align: right;\n",
              "    }\n",
              "</style>\n",
              "<table border=\"1\" class=\"dataframe\">\n",
              "  <thead>\n",
              "    <tr style=\"text-align: right;\">\n",
              "      <th></th>\n",
              "      <th>order_id</th>\n",
              "      <th>product_id</th>\n",
              "      <th>add_to_cart_order</th>\n",
              "      <th>reordered</th>\n",
              "    </tr>\n",
              "  </thead>\n",
              "  <tbody>\n",
              "    <tr>\n",
              "      <th>0</th>\n",
              "      <td>1</td>\n",
              "      <td>49302</td>\n",
              "      <td>1</td>\n",
              "      <td>1</td>\n",
              "    </tr>\n",
              "    <tr>\n",
              "      <th>1</th>\n",
              "      <td>1</td>\n",
              "      <td>11109</td>\n",
              "      <td>2</td>\n",
              "      <td>1</td>\n",
              "    </tr>\n",
              "    <tr>\n",
              "      <th>2</th>\n",
              "      <td>1</td>\n",
              "      <td>10246</td>\n",
              "      <td>3</td>\n",
              "      <td>0</td>\n",
              "    </tr>\n",
              "    <tr>\n",
              "      <th>3</th>\n",
              "      <td>1</td>\n",
              "      <td>49683</td>\n",
              "      <td>4</td>\n",
              "      <td>0</td>\n",
              "    </tr>\n",
              "    <tr>\n",
              "      <th>4</th>\n",
              "      <td>1</td>\n",
              "      <td>43633</td>\n",
              "      <td>5</td>\n",
              "      <td>1</td>\n",
              "    </tr>\n",
              "  </tbody>\n",
              "</table>\n",
              "</div>"
            ],
            "text/plain": [
              "   order_id  product_id  add_to_cart_order  reordered\n",
              "0         1       49302                  1          1\n",
              "1         1       11109                  2          1\n",
              "2         1       10246                  3          0\n",
              "3         1       49683                  4          0\n",
              "4         1       43633                  5          1"
            ]
          },
          "metadata": {},
          "execution_count": 7
        }
      ]
    },
    {
      "cell_type": "code",
      "metadata": {
        "colab": {
          "base_uri": "https://localhost:8080/",
          "height": 585
        },
        "id": "z3V9iCtYgpoB",
        "outputId": "1ddb6eb2-18bb-4df4-e04b-4d3aab0eb34b"
      },
      "source": [
        "cnt_srs = orders_df.eval_set.value_counts()\n",
        "\n",
        "plt.figure(figsize=(12,8))\n",
        "sns.barplot(cnt_srs.index, cnt_srs.values, alpha=0.8, color=color[1])\n",
        "plt.ylabel('Number of Occurrences', fontsize=12)\n",
        "plt.xlabel('Eval set type', fontsize=12)\n",
        "plt.title('Count of rows in each dataset', fontsize=15)\n",
        "plt.xticks(rotation='vertical')\n",
        "plt.show()"
      ],
      "execution_count": null,
      "outputs": [
        {
          "output_type": "stream",
          "name": "stderr",
          "text": [
            "/usr/local/lib/python3.7/dist-packages/seaborn/_decorators.py:43: FutureWarning: Pass the following variables as keyword args: x, y. From version 0.12, the only valid positional argument will be `data`, and passing other arguments without an explicit keyword will result in an error or misinterpretation.\n",
            "  FutureWarning\n"
          ]
        },
        {
          "output_type": "display_data",
          "data": {
            "image/png": "[encoded data removed]",
            "text/plain": [
              "<Figure size 864x576 with 1 Axes>"
            ]
          },
          "metadata": {
            "needs_background": "light"
          }
        }
      ]
    },
    {
      "cell_type": "code",
      "metadata": {
        "colab": {
          "base_uri": "https://localhost:8080/"
        },
        "id": "AZicviLYgywT",
        "outputId": "62569319-4ed6-4517-9d1a-0f1d4f16812e"
      },
      "source": [
        "def get_unique_count(x):\n",
        "    return len(np.unique(x))\n",
        "\n",
        "cnt_srs = orders_df.groupby(\"eval_set\")[\"user_id\"].aggregate(get_unique_count)\n",
        "cnt_srs"
      ],
      "execution_count": null,
      "outputs": [
        {
          "output_type": "execute_result",
          "data": {
            "text/plain": [
              "eval_set\n",
              "prior    206209\n",
              "test      75000\n",
              "train    131209\n",
              "Name: user_id, dtype: int64"
            ]
          },
          "metadata": {},
          "execution_count": 9
        }
      ]
    },
    {
      "cell_type": "code",
      "metadata": {
        "colab": {
          "base_uri": "https://localhost:8080/",
          "height": 563
        },
        "id": "6smY5u8Jg_yM",
        "outputId": "89eccb99-6f89-47ae-cae9-c127abc5716c"
      },
      "source": [
        "cnt_srs = orders_df.groupby(\"user_id\")[\"order_number\"].aggregate(np.max).reset_index()\n",
        "cnt_srs = cnt_srs.order_number.value_counts()\n",
        "\n",
        "plt.figure(figsize=(12,8))\n",
        "sns.barplot(cnt_srs.index, cnt_srs.values, alpha=0.8, color=color[2])\n",
        "plt.ylabel('Number of Occurrences', fontsize=12)\n",
        "plt.xlabel('Maximum order number', fontsize=12)\n",
        "plt.xticks(rotation='vertical')\n",
        "plt.show()"
      ],
      "execution_count": null,
      "outputs": [
        {
          "output_type": "stream",
          "name": "stderr",
          "text": [
            "/usr/local/lib/python3.7/dist-packages/seaborn/_decorators.py:43: FutureWarning: Pass the following variables as keyword args: x, y. From version 0.12, the only valid positional argument will be `data`, and passing other arguments without an explicit keyword will result in an error or misinterpretation.\n",
            "  FutureWarning\n"
          ]
        },
        {
          "output_type": "display_data",
          "data": {
            "image/png": "[encoded data removed]",
            "text/plain": [
              "<Figure size 864x576 with 1 Axes>"
            ]
          },
          "metadata": {
            "needs_background": "light"
          }
        }
      ]
    },
    {
      "cell_type": "code",
      "metadata": {
        "colab": {
          "base_uri": "https://localhost:8080/",
          "height": 514
        },
        "id": "ztBAFLXqhLcP",
        "outputId": "ccefdc96-78cf-4fe1-9ad4-3226a274b520"
      },
      "source": [
        "plt.figure(figsize=(12,8))\n",
        "sns.countplot(x=\"order_dow\", data=orders_df, color=color[0])\n",
        "plt.ylabel('Count', fontsize=12)\n",
        "plt.xlabel('Day of week', fontsize=12)\n",
        "plt.xticks(rotation='vertical')\n",
        "plt.title(\"Frequency of order by week day\", fontsize=15)\n",
        "plt.show()"
      ],
      "execution_count": null,
      "outputs": [
        {
          "output_type": "display_data",
          "data": {
            "image/png": "[encoded data removed]",
            "text/plain": [
              "<Figure size 864x576 with 1 Axes>"
            ]
          },
          "metadata": {
            "needs_background": "light"
          }
        }
      ]
    },
    {
      "cell_type": "code",
      "metadata": {
        "colab": {
          "base_uri": "https://localhost:8080/",
          "height": 521
        },
        "id": "aF3hDMERhUha",
        "outputId": "d394fbd5-7b80-4a10-9e35-8b333f662c3f"
      },
      "source": [
        "plt.figure(figsize=(12,8))\n",
        "sns.countplot(x=\"order_hour_of_day\", data=orders_df, color=color[1])\n",
        "plt.ylabel('Count', fontsize=12)\n",
        "plt.xlabel('Hour of day', fontsize=12)\n",
        "plt.xticks(rotation='vertical')\n",
        "plt.title(\"Frequency of order by hour of day\", fontsize=15)\n",
        "plt.show()"
      ],
      "execution_count": null,
      "outputs": [
        {
          "output_type": "display_data",
          "data": {
            "image/png": "[encoded data removed]",
            "text/plain": [
              "<Figure size 864x576 with 1 Axes>"
            ]
          },
          "metadata": {
            "needs_background": "light"
          }
        }
      ]
    },
    {
      "cell_type": "code",
      "metadata": {
        "colab": {
          "base_uri": "https://localhost:8080/",
          "height": 405
        },
        "id": "4JqvXx8UhvFm",
        "outputId": "3a12a72f-dc2f-43c0-b5fa-a967e9f9b082"
      },
      "source": [
        "grouped_df = orders_df.groupby([\"order_dow\", \"order_hour_of_day\"])[\"order_number\"].aggregate(\"count\").reset_index()\n",
        "grouped_df = grouped_df.pivot('order_dow', 'order_hour_of_day', 'order_number')\n",
        "\n",
        "plt.figure(figsize=(12,6))\n",
        "sns.heatmap(grouped_df)\n",
        "plt.title(\"Frequency of Day of week Vs Hour of day\")\n",
        "plt.show()"
      ],
      "execution_count": null,
      "outputs": [
        {
          "output_type": "display_data",
          "data": {
            "image/png": "[encoded data removed]",
            "text/plain": [
              "<Figure size 864x432 with 2 Axes>"
            ]
          },
          "metadata": {
            "needs_background": "light"
          }
        }
      ]
    },
    {
      "cell_type": "code",
      "metadata": {
        "colab": {
          "base_uri": "https://localhost:8080/",
          "height": 530
        },
        "id": "ZzzkrhQzimXv",
        "outputId": "63dae59a-b093-4c88-8c05-3d47e1071b84"
      },
      "source": [
        "plt.figure(figsize=(12,8))\n",
        "sns.countplot(x=\"days_since_prior_order\", data=orders_df, color=color[3])\n",
        "plt.ylabel('Count', fontsize=12)\n",
        "plt.xlabel('Days since prior order', fontsize=12)\n",
        "plt.xticks(rotation='vertical')\n",
        "plt.title(\"Frequency distribution by days since prior order\", fontsize=15)\n",
        "plt.show()"
      ],
      "execution_count": null,
      "outputs": [
        {
          "output_type": "display_data",
          "data": {
            "image/png": "[encoded data removed]",
            "text/plain": [
              "<Figure size 864x576 with 1 Axes>"
            ]
          },
          "metadata": {
            "needs_background": "light"
          }
        }
      ]
    },
    {
      "cell_type": "markdown",
      "metadata": {
        "id": "BtYuuuMXkQtd"
      },
      "source": [
        ""
      ]
    },
    {
      "cell_type": "code",
      "metadata": {
        "colab": {
          "base_uri": "https://localhost:8080/"
        },
        "id": "bpFHhCWvjakv",
        "outputId": "9aa652a6-b937-4ce6-d94d-11805c25a54c"
      },
      "source": [
        "# percentage of re-orders in prior set\n",
        "order_products_prior_df.reordered.sum() / order_products_prior_df.shape[0]\n"
      ],
      "execution_count": null,
      "outputs": [
        {
          "output_type": "execute_result",
          "data": {
            "text/plain": [
              "0.5896974667922161"
            ]
          },
          "metadata": {},
          "execution_count": 15
        }
      ]
    },
    {
      "cell_type": "code",
      "metadata": {
        "colab": {
          "base_uri": "https://localhost:8080/"
        },
        "id": "Jw17qVnhjgd0",
        "outputId": "37644f20-df2b-43fb-8862-be31e62719e3"
      },
      "source": [
        "# percentage of re-orders in test set \n",
        "order_products_train_df.reordered.sum() / order_products_train_df.shape[0]"
      ],
      "execution_count": null,
      "outputs": [
        {
          "output_type": "execute_result",
          "data": {
            "text/plain": [
              "0.5985944127509629"
            ]
          },
          "metadata": {},
          "execution_count": 16
        }
      ]
    },
    {
      "cell_type": "code",
      "source": [
        "#Linear Regression\n",
        "import pandas as pd\n",
        "import numpy as np\n",
        "import matplotlib.pyplot as plt\n",
        "import matplotlib\n",
        "import math\n",
        "\n",
        "# Import the regression libraries\n",
        "from sklearn.linear_model import SGDRegressor\n",
        "from sklearn import metrics\n",
        "\n",
        "\n",
        "lireg=LinearRegression()\n",
        "lireg.fit(X_train,Y_train)\n",
        "pre=lireg.predict(X_test)\n",
        "preLR=pre\n",
        "\n",
        "plot_future(pre, 'Next Date Buy Prediction Linear Regression', Y_test)\n",
        "\n",
        "evaluate_prediction(pre, Y_test, 'Next Date Buy Prediction Linear Regression')\n",
        "\n",
        "def LRPrediction(user_id):\n",
        "    custo=time_series_data[time_series_data['user_id']==user_id]\n",
        "    Cust_X=np.array(custo[['Time_Series_Input1','Time_Series_Input2']])\n",
        "    Cust_Y=np.array(custo[['Time_Series_Output']])\n",
        "    pre=lireg.predict(Cust_X)\n",
        "    plot_future(pre, 'Next Date Buy Prediction User '+str(user_id)+' using Linear Regression', Cust_Y)\n",
        "    "
      ],
      "metadata": {
        "id": "brtszmc2CL5D"
      },
      "execution_count": null,
      "outputs": []
    },
    {
      "cell_type": "code",
      "source": [
        "#XGBoost\n",
        "#Import the necessary libraries\n",
        "\n",
        "import pandas as pd\n",
        "import numpy as np\n",
        "import matplotlib.pyplot as plt\n",
        "import matplotlib\n",
        "import math\n",
        "import seaborn as sns\n",
        "\n",
        "import xgboost as xgb\n",
        "from sklearn import metrics, model_selection\n",
        "\n",
        "import tikzplotlib\n",
        "\n",
        "#load the data set\n",
        "df_features = pd.read_pickle(\"df_features_final_var.pkl\")\n",
        "df_features\n",
        "\n",
        "# Correlation matrix showing the correlation between the features \n",
        "correlation_matrix = df_features.corr()\n",
        "labels_corr_features = correlation_matrix.index\n",
        "plt.figure(figsize = (20,20))\n",
        "g = sns.heatmap(df_features[labels_corr_features].corr(), annot = True)\n",
        "\n",
        "from sklearn.model_selection import train_test_split\n",
        "\n",
        "#split the data into a train and test set\n",
        "train, validation = train_test_split(df_features, test_size=0.2, random_state= 1)\n",
        "\n",
        "X_train = train.drop(['t_0'], axis = 1)\n",
        "y_train = train['t_0']\n",
        "\n",
        "X_validation = validation.drop(['t_0'], axis = 1)\n",
        "y_validation = validation['t_0']\n",
        "\n",
        "model = xgb.XGBRegressor()\n",
        "model.fit(X_train, y_train)\n",
        "\n",
        "y_predict = model.predict(X_validation)\n",
        "y_predict_train = model.predict(X_train)\n",
        "from sklearn.metrics import mean_absolute_error, r2_score, mean_squared_error\n",
        "print('Mean Absolute error validation set:', mean_absolute_error(y_validation,y_predict))\n",
        "print('Mean Absolute error train set:', mean_absolute_error(y_train,y_predict_train))\n",
        "\n",
        "\n",
        "model = xgb.XGBRegressor()\n",
        "\n",
        "xgb_2best_model = xgb.XGBRegressor(base_score=1, booster='gbtree', colsample_bylevel=1,\n",
        "             colsample_bynode=1, colsample_bytree=1, gamma=0,\n",
        "             importance_type='gain', learning_rate=0.05, max_delta_step=0,\n",
        "             max_depth=10, min_child_weight=3, missing=None, n_estimators=100,\n",
        "             n_jobs=1, nthread=None, objective='reg:linear', random_state=0,\n",
        "             reg_alpha=0, reg_lambda=1, scale_pos_weight=1, seed=None,\n",
        "             silent=None, subsample=1, verbosity=1)\n",
        "\n",
        "# model with best hyperparameters\n",
        "xgb_best_model = xgb.XGBRegressor(base_score=0.5, booster='gbtree', colsample_bylevel=1,\n",
        "             colsample_bynode=1, colsample_bytree=1, gamma=0,\n",
        "             importance_type='gain', learning_rate=0.01, max_delta_step=0,\n",
        "             max_depth=13, min_child_weight=2, missing=None, n_estimators=10,\n",
        "             n_jobs=1, nthread=None, objective='reg:linear', random_state=0,\n",
        "             reg_alpha=0, reg_lambda=1, scale_pos_weight=1, seed=None,\n",
        "             silent=None, subsample=1, verbosity=1)\n",
        "\n",
        "xgb_2best_model.fit(X_train, y_train)\n",
        "\n",
        "y_predict = xgb_2best_model.predict(X_validation)\n",
        "y_predict_train = xgb_2best_model.predict(X_train)\n",
        "from sklearn.metrics import mean_absolute_error, r2_score, mean_squared_error\n",
        "print('Mean Absolute error validation set:', mean_absolute_error(y_validation,y_predict))\n",
        "print('Mean Absolute error train set:', mean_absolute_error(y_train,y_predict_train))\n",
        "print('R2 validation set:', r2_score(y_validation,y_predict))\n",
        "print('R2 train set:', r2_score(y_train,y_predict_train))\n",
        "print('RMSE validation set:', mean_squared_error(y_validation,y_predict))\n",
        "print('RMSE train set:', mean_squared_error(y_train,y_predict_train))\n",
        "\n",
        "xgb_best_model.fit(X_train, y_train)\n",
        "\n",
        "y_predict = xgb_best_model.predict(X_validation)\n",
        "y_predict_train = xgb_best_model.predict(X_train)\n",
        "from sklearn.metrics import mean_absolute_error, r2_score, mean_squared_error\n",
        "print('Mean Absolute error validation set:', mean_absolute_error(y_validation,y_predict))\n",
        "print('Mean Absolute error train set:', mean_absolute_error(y_train,y_predict_train))\n",
        "print('R2 validation set:', r2_score(y_validation,y_predict))\n",
        "print('R2 train set:', r2_score(y_train,y_predict_train))\n",
        "print('RMSE validation set:', mean_squared_error(y_validation,y_predict))\n",
        "print('RMSE train set:', mean_squared_error(y_train,y_predict_train))\n",
        "\n",
        "_ = xgb.plot_importance(xgb_2best_model, height=0.9)\n",
        "\n",
        "_ = xgb.plot_importance(xgb_best_model, height=0.9)\n",
        "\n",
        "## Test it on the Test set\n",
        "\n",
        "#load the data set\n",
        "df_test = pd.read_pickle(\"df_test_final_var.pkl\")\n",
        "df_test['variance'] = np.sqrt(df_test['variance'])\n",
        "df_test = df_test.drop(['product_seq', 'days_since_seq'], axis = 1)\n",
        "df_test\n",
        "# df_val = df_val.drop(['max_days','min_days','avg_days'], axis = 1)\n",
        "\n",
        "X_test = df_test.drop(['t_0','num_times_purchased'], axis = 1)\n",
        "y_test = df_test['t_0']\n",
        "\n"
      ],
      "metadata": {
        "id": "VU83no7cD7Nx"
      },
      "execution_count": null,
      "outputs": []
    },
    {
      "cell_type": "code",
      "source": [
        "#ANN\n",
        "#code partly offered by Droomer and Bekker\n",
        "import pandas as pd\n",
        "import numpy as np\n",
        "import matplotlib.pyplot as plt\n",
        "import matplotlib\n",
        "import math\n",
        "\n",
        "\n",
        "from keras.models import Sequential\n",
        "from keras.layers import Dense\n",
        "from keras.wrappers.scikit_learn import KerasRegressor\n",
        "from sklearn.model_selection import cross_val_score\n",
        "from sklearn.model_selection import KFold\n",
        "from sklearn.preprocessing import StandardScaler\n",
        "from sklearn.preprocessing import MinMaxScaler\n",
        "from sklearn.pipeline import Pipeline\n",
        "from sklearn import metrics\n",
        "\n",
        "#load the data set\n",
        "df = pd.read(\"df\")\n",
        "df_label = df['t_0']\n",
        "df_features = df.drop(['t_0'], axis = 1)\n",
        "len(df_features.columns)\n",
        "\n",
        "#set scaler\n",
        "scaler_feature = MinMaxScaler()\n",
        "scaler_label = MinMaxScaler()\n",
        "\n",
        "#scale features\n",
        "scaler_feature.fit(df_features)\n",
        "scaled_features = scaler_feature.transform(df_features)\n",
        "\n",
        "# define a baseline model\n",
        "input_dimensions = len(df_features.columns)\n",
        "num_output_values = 1\n",
        "\n",
        "model = Sequential()\n",
        "model.add(Dense(input_dimensions, input_dim = input_dimensions, kernel_initializer='normal', activation='relu'))\n",
        "model.add(Dense(10,activation='relu'))\n",
        "model.add(Dense(5,activation='relu'))\n",
        "model.add(Dense(num_output_values, kernel_initializer = 'normal'))\n",
        "\n",
        "#compile model\n",
        "model.compile(loss='mse', optimizer='adam', metrics=['mse','mae'])\n",
        "\n",
        "#scale the labels\n",
        "scaler_label.fit(np.array(df_label).reshape(-1,1))\n",
        "scaled_labels = scaler_label.transform(np.array(df_label).reshape(-1,1))\n",
        "\n",
        "#train the model\n",
        "history = model.fit(scaled_features, scaled_labels, epochs=50, batch_size=100,  verbose=1, validation_split=0.2)\n",
        "\n",
        "### Testing the neural network model on the test set.\n",
        "\n",
        "#load the data set\n",
        "df_val = pd.read_pickle(\"df_test_final_var.pkl\")\n",
        "df_val['variance'] = np.sqrt(df_val['variance'])\n",
        "df_val = df_val.drop(['product_seq', 'days_since_seq'], axis = 1)\n",
        "\n",
        "\n",
        "#scaling the test set with the same scalers as the training set\n",
        "X_test = df_val.drop(['t_0','num_times_purchased'], axis = 1)\n",
        "y_test = df_val['t_0']\n",
        "\n",
        "scaled_features_test = scaler_feature.transform(X_test)\n",
        "scaled_labels_test = scaler_label.transform(np.array(y_test).reshape(-1,1))\n",
        "\n",
        "#making the next purchase date predictions\n",
        "predictions = model.predict(scaled_features_test)\n",
        "\n",
        "#scaling the predictions back so that it can be compared with the target variable\n",
        "prediction_scaled_back = scaler_label.inverse_transform(predictions)\n",
        "print('Mean Absolute Error:',metrics.mean_absolute_error(y_test,prediction_scaled_back))\n",
        "\n",
        "#plotting the absolute error\n",
        "sorted_values_nn = np.sort(np.abs(y_test - prediction_scaled_back.ravel()))\n",
        "plt.plot(sorted_values_nn)\n",
        "plt.show()\n",
        "\n",
        "prediction_scaled_back[prediction_scaled_back < 0] = 0\n",
        "\n",
        "print('Mean Absolute Error:',metrics.mean_absolute_error(y_test,prediction_scaled_back))\n",
        "\n",
        "# Scaled Neural Network StandardScaler\n",
        "\n",
        "#set scaler\n",
        "scaler_feature = StandardScaler()\n",
        "scaler_label = StandardScaler()\n",
        "\n",
        "#scale features\n",
        "scaler_feature.fit(df_features)\n",
        "scaled_features = scaler_feature.transform(df_features)\n",
        "\n",
        "# define a baseline model\n",
        "input_dimensions = len(df_features.columns)\n",
        "num_output_values = 1\n",
        "\n",
        "model = Sequential()\n",
        "model.add(Dense(input_dimensions, input_dim = input_dimensions, kernel_initializer='normal', activation='relu'))\n",
        "model.add(Dense(8, activation='relu'))\n",
        "#model.add(Dense(5, activation='relu'))\n",
        "model.add(Dense(num_output_values, kernel_initializer = 'normal'))\n",
        "\n",
        "#compile model\n",
        "model.compile(loss='mse', optimizer='adam', metrics=['mse','mae'])\n",
        "\n",
        "#scale the labels\n",
        "scaler_label.fit(np.array(df_label).reshape(-1,1))\n",
        "scaled_labels = scaler_label.transform(np.array(df_label).reshape(-1,1))\n",
        "\n",
        "#train the model\n",
        "history = model.fit(scaled_features, scaled_labels, epochs=50, batch_size=100,  verbose=1, validation_split=0.2)\n",
        "\n",
        "### Making NPD predictions for the test set\n",
        "\n",
        "#load the data set\n",
        "df_val = pd.read_pickle(\"df_test_final_var.pkl\")\n",
        "df_val['variance'] = np.sqrt(df_val['variance'])\n",
        "df_val = df_val.drop(['product_seq', 'days_since_seq'], axis = 1)\n",
        "\n",
        "\n",
        "#scaling the test set with the same scalers as the training set\n",
        "X_test = df_val.drop(['t_0','num_times_purchased'], axis = 1)\n",
        "y_test = df_val['t_0']\n",
        "\n",
        "scaled_features_test = scaler_feature.transform(X_test)\n",
        "scaled_labels_test = scaler_label.transform(np.array(y_test).reshape(-1,1))\n",
        "\n",
        "#making the next purchase date predictions\n",
        "predictions = model.predict(scaled_features_test)\n",
        "\n",
        "#scaling the predictions back so that it can be compared with the target variable\n",
        "prediction_scaled_back = scaler_label.inverse_transform(predictions)\n",
        "print('Mean Absolute Error:',metrics.mean_absolute_error(y_test,prediction_scaled_back))\n",
        "\n",
        "#plotting the absolute error\n",
        "sorted_values_nn = np.sort(np.abs(y_test - prediction_scaled_back.ravel()))\n",
        "plt.plot(sorted_values_nn)\n",
        "plt.show()"
      ],
      "metadata": {
        "id": "ktAqc1sDEPp1"
      },
      "execution_count": null,
      "outputs": []
    },
    {
      "cell_type": "code",
      "source": [
        "#RNN\n",
        "#from Droomer & Bekker\n",
        "import torch\n",
        "from torch import nn\n",
        "import torch.nn.init as init\n",
        "from torch.autograd import Variable\n",
        "\n",
        "class two_feature_RNN(nn.Module):\n",
        "    def __init__(self, hidden_size = 10, num_layers = 1):\n",
        "        \n",
        "        super(two_feature_RNN, self).__init__()\n",
        "        \n",
        "        #define the properties\n",
        "        self.num_feat = 2\n",
        "        self.num_batch = 1\n",
        "        self.hidden_size = hidden_size\n",
        "        self.num_layers = num_layers\n",
        "\n",
        "        output_size = 1\n",
        "        \n",
        "        #define the rnn\n",
        "        self.rnn = nn.RNN(input_size = self.num_feat, \n",
        "                          hidden_size = self.hidden_size, \n",
        "                          num_layers = self.num_layers,\n",
        "                          nonlinearity = 'relu')\n",
        "        self.out_layer = nn.Linear(self.hidden_size, output_size)\n",
        "        \n",
        "    def forward(self, inputs):\n",
        "    \n",
        "        #initialize the hidden layer\n",
        "        h0 = torch.zeros(self.num_layers, self.num_batch, self.hidden_size)\n",
        "        \n",
        "        #forward pass\n",
        "        output_rnn, hn = self.rnn(inputs, h0)\n",
        "        output_out_layer = self.out_layer(output_rnn)\n",
        "        \n",
        "        return output_out_layer, hn\n",
        "\n",
        "    def train(self,data, n_epochs, lr = 0.01, weight_decay = 0.01):\n",
        "        '''\n",
        "        Call this to train on a series of data\n",
        "        '''\n",
        "        seq_length = data.shape[0]-1\n",
        "\n",
        "        inputs = Variable(torch.from_numpy(data[:-1,:]).float())\n",
        "        inputs = torch.reshape(inputs,(seq_length,1,self.num_feat))\n",
        "        targets = Variable(torch.from_numpy(data[1:,0]).float())\n",
        "        targets = torch.reshape(targets,(seq_length,1,1))\n",
        "        \n",
        "        #convert the input data to tensors\n",
        "#         inputs = Variable( torch.from_numpy(data[:-1]).float())\n",
        "#         inputs = torch.reshape(inputs,(seq_length,1,1))\n",
        "#         targets = Variable(torch.from_numpy(data[1:]).float())\n",
        "#         targets = torch.reshape(targets,(seq_length,1,1))\n",
        "\n",
        "        criterion = nn.MSELoss()\n",
        "        optimizer = torch.optim.Adam(self.parameters(), lr=0.01 , weight_decay = weight_decay)\n",
        "        \n",
        "        for epoch in range(n_epochs):\n",
        "    \n",
        "            outputs, hidden = self(inputs)\n",
        "\n",
        "            optimizer.zero_grad()\n",
        "            loss = criterion(outputs, targets)\n",
        "            loss.backward()\n",
        "            optimizer.step()\n",
        "\n",
        "            if epoch%50 == 0:\n",
        "                print('Epoch: {}/{}.............'.format(epoch, n_epochs), end=' ')\n",
        "                print(\"Loss: {:.4f}\".format(loss.item()))\n",
        "                \n",
        "    def predict(self,data,n=4):\n",
        "        '''\n",
        "        Send a series in and receive the prediction\n",
        "        '''\n",
        "        \n",
        "        inputs = Variable( torch.from_numpy(data).float())\n",
        "        inputs = torch.reshape(inputs,(data.shape[0],1,self.num_feat))\n",
        "        \n",
        "        out, hidden = self.forward(inputs)\n",
        "        \n",
        "        return out.detach().numpy()[:,0,0]\n",
        "\n",
        "\n",
        "class SimpleRNN(nn.Module):\n",
        "    def __init__(self):\n",
        "        \n",
        "        super(SimpleRNN, self).__init__()\n",
        "        \n",
        "        #define the properties\n",
        "        num_feat = 1\n",
        "        self.num_batch = 1\n",
        "        self.hidden_size = 10\n",
        "        self.num_layers = 1\n",
        "\n",
        "        output_size = 1\n",
        "        \n",
        "        #define the rnn\n",
        "        self.rnn = nn.RNN(input_size = num_feat, \n",
        "                          hidden_size = self.hidden_size, \n",
        "                          num_layers = self.num_layers,\n",
        "                          nonlinearity = 'relu')\n",
        "        self.out_layer = nn.Linear(self.hidden_size, output_size)\n",
        "        \n",
        "    def forward(self, inputs):\n",
        "    \n",
        "        #initialize the hidden layer\n",
        "        h0 = torch.zeros(self.num_layers, self.num_batch, self.hidden_size)\n",
        "        \n",
        "        #forward pass\n",
        "        output_rnn, hn = self.rnn(inputs, h0)\n",
        "        output_out_layer = self.out_layer(output_rnn)\n",
        "        \n",
        "        return output_out_layer, hn\n",
        "\n",
        "    def train(self,data, n_epochs, lr = 0.01, weight_decay = 0.1):\n",
        "        '''\n",
        "        Call this to train on a series of data\n",
        "        '''\n",
        "        seq_length = data.shape[0]-1\n",
        "        #convert the input data to tensors\n",
        "        inputs = Variable( torch.from_numpy(data[:-1]).float())\n",
        "        inputs = torch.reshape(inputs,(seq_length,1,1))\n",
        "        targets = Variable(torch.from_numpy(data[1:]).float())\n",
        "        targets = torch.reshape(targets,(seq_length,1,1))\n",
        "\n",
        "        criterion = nn.MSELoss()\n",
        "        optimizer = torch.optim.Adam(self.parameters(), lr=0.01 , weight_decay = weight_decay)\n",
        "        \n",
        "        for epoch in range(n_epochs):\n",
        "    \n",
        "            outputs, hidden = self(inputs)\n",
        "\n",
        "            optimizer.zero_grad()\n",
        "            loss = criterion(outputs, targets)\n",
        "            loss.backward()\n",
        "            optimizer.step()\n",
        "\n",
        "            if epoch%500 == 0:\n",
        "                print('Epoch: {}/{}.............'.format(epoch, n_epochs), end=' ')\n",
        "                print(\"Loss: {:.4f}\".format(loss.item()))\n",
        "                \n",
        "    def predict(self,data,n=4):\n",
        "        '''\n",
        "        Send a series in and receive the prediction\n",
        "        '''\n",
        "        \n",
        "        inputs = Variable( torch.from_numpy(data).float())\n",
        "        inputs = torch.reshape(inputs,(data.shape[0],1,1))\n",
        "        \n",
        "        out, hidden = self.forward(inputs)\n",
        "        \n",
        "        return out.detach().numpy()[:,0,0]\n",
        "    \n",
        "    "
      ],
      "metadata": {
        "id": "UW1zhyElE_sk"
      },
      "execution_count": null,
      "outputs": []
    },
    {
      "cell_type": "code",
      "source": [
        "#Recommender System\n",
        "Order_Infor_1=orders[['order_id','user_id']]\n",
        "\n",
        "Order_Infor_1.head(5)\n",
        "\n",
        "Order_Infor_2=order_train[['order_id','product_id']]\n",
        "\n",
        "Order_Infor_2.head()\n",
        "\n",
        "Order_Infor_3=products[['product_id','product_name']]\n",
        "\n",
        "Order_Infor_3.head(5)\n",
        "\n",
        "Order_Infor_4=pd.merge(Order_Infor_1, Order_Infor_2, on='order_id')\n",
        "\n",
        "Order_Infor_4=pd.merge(Order_Infor_3, Order_Infor_4, on='product_id')\n",
        "\n",
        "Order_Infor_4.shape\n",
        "\n",
        "Order_Infor_4.head(10)\n",
        "\n",
        "Number_of_item_per_user=Order_Infor_4.groupby(\"user_id\")['product_id'].count().reset_index()\n",
        "\n",
        "Number_of_item_per_user.columns=['user_id','count']\n",
        "\n",
        "# plot histogram\n",
        "import plotly.express as px\n",
        "\n",
        "hist_fig = px.histogram(Number_of_item_per_user, \n",
        "                        x=\"count\", \n",
        "                        title=\"Number of orders per user\", \n",
        "                        template= \"plotly_dark\" \n",
        "                       )\n",
        "\n",
        "hist_fig.update_layout(title_x=0.5, \n",
        "                       xaxis_title=\"number of orders\", \n",
        "                       yaxis_title=\"Number of users\"\n",
        "                      )\n",
        "\n",
        "hist_fig.show(config={'displaylogo': False})\n",
        "\n",
        "Number_of_item_per_user['count'].max()\n",
        "\n",
        "Number_of_item_per_user['count'].min()\n",
        "\n",
        "Selected_Users=Number_of_item_per_user[(Number_of_item_per_user['count']<25) & (Number_of_item_per_user['count']>20)]\n",
        "\n",
        "## select 10 as threshold\n",
        "\n",
        "Selected_Users=list(Selected_Users['user_id'])\n",
        "\n",
        "Final_Selection=Order_Infor_4[Order_Infor_4.user_id.isin(Selected_Users)]\n",
        "\n",
        "Final_Selection\n",
        "\n",
        "Order_Count=Final_Selection.groupby(['user_id','product_id'])['order_id'].count().reset_index()\n",
        "\n",
        "Order_Count.columns=['user_id','product_id','Number_of_sales']\n",
        "\n",
        "import numpy as np \n",
        "customers = list(np.sort(Order_Count.user_id.unique()))\n",
        "# a list of values, so customers now stores 36 unique customers\n",
        "products = list(Order_Count.product_id.unique()) \n",
        "quantity = list(Order_Count.Number_of_sales)\n",
        "\n",
        "from pandas import DataFrame \n",
        "DfCustomerUnique = DataFrame(customers,columns=['user_id']) \n",
        "DfCustomerUnique.head()\n",
        "\n",
        "from scipy import sparse \n",
        "from pandas.api.types import CategoricalDtype \n",
        "rows = Order_Count['user_id'].astype(CategoricalDtype(categories=customers)).cat.codes \n",
        "# We have got 35 unique customers, which make up 13837 data rows (index) \n",
        "# Get the associated row indices \n",
        "cols = Order_Count.product_id.astype(CategoricalDtype(categories= products)).cat.codes \n",
        "# We have got unique 3725 SalesItems, making up 13837 data rows (index) \n",
        "# Get the associated column indices \n",
        "#Compressed Sparse Row matrix \n",
        "PurchaseSparse = sparse.csr_matrix((quantity, (rows, cols)), shape=(len(customers), len(products))) \n",
        "#len of customers=35, len of products=3725 \n",
        "#csr_matrix((data, (row_ind, col_ind)), [shape=(M, N)]) \n",
        "#where data, row_ind and col_ind satisfy the relationship a[row_ind[k], col_ind[k]] = data[k]. , see [3]\n",
        "PurchaseSparse\n",
        "\n",
        "MatrixSize = PurchaseSparse.shape[0]*PurchaseSparse.shape[1] # 130375 possible interactions in the matrix (35 unique customers * 3725 unique SalesItems=130375)\n",
        "PurchaseAmount = len(PurchaseSparse.nonzero()[0]) # 13837 SalesItems interacted with;\n",
        "sparsity = 100*(1 - (PurchaseAmount/MatrixSize))\n",
        "sparsity\n",
        "\n",
        "DATASET=Final_Selection[['user_id','product_name']]\n",
        "\n",
        "df1 = DATASET.groupby(['user_id','product_name']).size().unstack()\n",
        "\n",
        "df1=df1.fillna(0)\n",
        "\n",
        "df1\n",
        "\n",
        "# K Neighbour based recommandation\n",
        "\n",
        "import numpy as np\n",
        "DfSalesItemNorm = df1/np.sqrt(np.square(df1).sum(axis=0))   \n",
        "DfSalesItemNorm.head()\n",
        "\n",
        "dataset=DfSalesItemNorm.T\n",
        "\n",
        "# copy dataset\n",
        "dataset1 = dataset.copy()\n",
        "from sklearn.neighbors import NearestNeighbors\n",
        "# find the nearest neighbors using NearestNeighbors(n_neighbors=3)\n",
        "number_neighbors = 3\n",
        "knn = NearestNeighbors(metric='cosine', algorithm='brute')\n",
        "knn.fit(dataset.values)\n",
        "distances, indices = knn.kneighbors(dataset.values, n_neighbors=number_neighbors)\n",
        "\n",
        "\n",
        "def recommend_items(user, num_recommended_items):\n",
        "    print('The list of the items {} Has Bought \\n'.format(user))\n",
        "\n",
        "    for m in dataset[dataset[user] > 0][user].index.tolist():\n",
        "        print(m)\n",
        "    print('\\n')\n",
        "\n",
        "    recommended_items = []\n",
        "\n",
        "    for m in dataset[dataset[user] == 0].index.tolist():\n",
        "        index_dataset = dataset.index.tolist().index(m)\n",
        "        predicted_chance_to_buy = dataset1.iloc[index_dataset, dataset1.columns.tolist().index(user)]\n",
        "        recommended_items.append((m, predicted_chance_to_buy))\n",
        "\n",
        "    sorted_rm = sorted(recommended_items, key=lambda x:x[1], reverse=True)\n",
        "\n",
        "    print('The list of the Recommended items \\n')\n",
        "    rank = 1\n",
        "    for recommended_item in sorted_rm[:num_recommended_items]:\n",
        "        print('{}: {} - predicted chance_to_buy:{}'.format(rank, recommended_item[0], recommended_item[1]))\n",
        "        rank = rank + 1\n",
        "\n",
        "# store the original dataset in 'dataset', and create the copy of dataset, dataset1 = dataset.copy().\n",
        "def item_recommender(user, num_recommendation):\n",
        "    number_neighbors = num_recommendation\n",
        "    n_neighbors=num_recommendation\n",
        "    knn = NearestNeighbors(metric='cosine', algorithm='brute')\n",
        "    knn.fit(dataset.values)\n",
        "    distances, indices = knn.kneighbors(dataset.values, n_neighbors=number_neighbors)\n",
        "    user_index = dataset.columns.tolist().index(user)\n",
        "    for m,t in list(enumerate(dataset.index)):\n",
        "        if dataset.iloc[m, user_index] == 0:\n",
        "            sim_items = indices[m].tolist()\n",
        "            item_distances = distances[m].tolist()\n",
        "            if m in sim_items:\n",
        "                id_item = sim_items.index(m)\n",
        "                sim_items.remove(m)\n",
        "                item_distances.pop(id_item) \n",
        "\n",
        "            else:\n",
        "                sim_items = sim_items[:n_neighbors-1]\n",
        "                item_distances = item_distances[:n_neighbors-1]\n",
        "\n",
        "        item_similarity = [1-x for x in item_distances]\n",
        "        item_similarity_copy = item_similarity.copy()\n",
        "        nominator = 0\n",
        "\n",
        "        for s in range(0, len(item_similarity)):\n",
        "                if dataset.iloc[sim_items[s], user_index] == 0:\n",
        "                    if len(item_similarity_copy) == (number_neighbors - 1):\n",
        "                        item_similarity_copy.pop(s)\n",
        "                    else:\n",
        "                        item_similarity_copy.pop(s-(len(item_similarity)-len(item_similarity_copy)))\n",
        "\n",
        "                else:\n",
        "                      nominator = nominator + item_similarity[s]*dataset.iloc[sim_items[s],user_index]\n",
        "\n",
        "        if len(item_similarity_copy) > 0:\n",
        "            if sum(item_similarity_copy) > 0:\n",
        "                predicted_r = nominator/sum(item_similarity_copy)\n",
        "\n",
        "            else:\n",
        "                predicted_r = 0\n",
        "\n",
        "        else:\n",
        "            predicted_r = 0\n",
        "        dataset1.iloc[m,user_index] = predicted_r\n",
        "    recommend_items(user, num_recommendation)\n",
        "\n",
        "item_recommender(9,3)\n",
        "\n",
        "DfSalesItemNorm.index\n",
        "\n",
        "item_recommender(206199,10)"
      ],
      "metadata": {
        "id": "P4L8Ewc9FyiN"
      },
      "execution_count": null,
      "outputs": []
    }
  ]
}